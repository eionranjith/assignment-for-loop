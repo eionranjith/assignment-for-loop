{
 "cells": [
  {
   "cell_type": "code",
   "execution_count": 2,
   "id": "970a9a78-9223-4b1f-a78c-c1a78f1b37ab",
   "metadata": {},
   "outputs": [
    {
     "name": "stdout",
     "output_type": "stream",
     "text": [
      "1\n",
      "2\n",
      "3\n",
      "4\n",
      "5\n",
      "6\n",
      "7\n",
      "8\n",
      "9\n",
      "10\n"
     ]
    }
   ],
   "source": [
    "#1) Write a Python program to print the numbers from 1 to 10 using a `for` loop?\n",
    "for i in range(1,11):\n",
    "    print(i)"
   ]
  },
  {
   "cell_type": "code",
   "execution_count": 3,
   "id": "a5542379-5ffc-46d5-887f-293d1896d8fe",
   "metadata": {},
   "outputs": [
    {
     "name": "stdout",
     "output_type": "stream",
     "text": [
      "265\n"
     ]
    }
   ],
   "source": [
    "#2) Create a program that calculates the sum of all numbers in a list using a `for` loop?\n",
    "list1=[1,12,53,104,95]\n",
    "sum=0\n",
    "for s in range(0,len(list1)):\n",
    "   sum=sum+list1[s]\n",
    "print (sum )"
   ]
  },
  {
   "cell_type": "code",
   "execution_count": 5,
   "id": "2c3476e1-3bac-48bb-aee6-c007d9bb16be",
   "metadata": {},
   "outputs": [
    {
     "name": "stdout",
     "output_type": "stream",
     "text": [
      "The original string is : ranjith kumar\n",
      "The reversed string(using loops) is : ramuk htijnar\n"
     ]
    }
   ],
   "source": [
    "#3) Write a program to print the characters of a string in reverse order using a `for` loop?\n",
    "def reverse(s):\n",
    "    str = \"\"\n",
    "    for i in s:\n",
    "        str = i + str\n",
    "    return str\n",
    " \n",
    "s = \"ranjith kumar\"\n",
    " \n",
    "print(\"The original string is : \", end=\"\")\n",
    "print(s)\n",
    " \n",
    "print(\"The reversed string(using loops) is : \", end=\"\")\n",
    "print(reverse(s))\n"
   ]
  },
  {
   "cell_type": "code",
   "execution_count": 6,
   "id": "5f774944-ba68-4cad-bbc6-09f065b641d9",
   "metadata": {},
   "outputs": [
    {
     "name": "stdout",
     "output_type": "stream",
     "text": [
      "Enter a number:  8\n"
     ]
    },
    {
     "name": "stdout",
     "output_type": "stream",
     "text": [
      "Factorial of the given number is:  40320\n"
     ]
    }
   ],
   "source": [
    "#4)Develop a program that finds the factorial of a given number using a `for` loop?\n",
    "n = int (input (\"Enter a number: \"))\n",
    "factorial = 1\n",
    "if n >= 1:\n",
    "    for i in range (1, n+1):\n",
    "        factorial=factorial *i\n",
    "print(\"Factorial of the given number is: \", factorial)"
   ]
  },
  {
   "cell_type": "code",
   "execution_count": 7,
   "id": "dc4035d9-12d2-475e-831a-04c2f9ffd9f3",
   "metadata": {},
   "outputs": [
    {
     "name": "stdout",
     "output_type": "stream",
     "text": [
      "enter a number for which you are looking for table  17\n"
     ]
    },
    {
     "name": "stdout",
     "output_type": "stream",
     "text": [
      "17  *  1 = 17\n",
      "17  *  2 = 34\n",
      "17  *  3 = 51\n",
      "17  *  4 = 68\n",
      "17  *  5 = 85\n",
      "17  *  6 = 102\n",
      "17  *  7 = 119\n",
      "17  *  8 = 136\n",
      "17  *  9 = 153\n",
      "17  *  10 = 170\n"
     ]
    }
   ],
   "source": [
    "\n",
    "#5)Create a program to print the multiplication table of a given number using a `for` loop?\n",
    "n = int(input(\"enter a number for which you are looking for table \"))\n",
    "i = 1 \n",
    "while i <= 10 :\n",
    "    product = n * i\n",
    "    print(n ,' * ' , i , '=' , product )\n",
    "    i = i + 1 "
   ]
  },
  {
   "cell_type": "code",
   "execution_count": 8,
   "id": "92301fd8-3276-434f-86cf-3bb4112831a0",
   "metadata": {},
   "outputs": [
    {
     "name": "stdout",
     "output_type": "stream",
     "text": [
      "even number in the list : 3\n",
      "odd number in the list: 4\n"
     ]
    }
   ],
   "source": [
    "#6) Write a program that counts the number of even and odd numbers in a list using a `for` loop?\n",
    "list1=[10,21,4,45,66,93,1]\n",
    "even_count,odd_count=0,0\n",
    "for num in list1:\n",
    "    if num%2==0:\n",
    "        even_count +=1\n",
    "    else:\n",
    "        odd_count +=1\n",
    "print(\"even number in the list :\",even_count)\n",
    "print(\"odd number in the list:\",odd_count)\n",
    "        "
   ]
  },
  {
   "cell_type": "code",
   "execution_count": 9,
   "id": "05a5b6dc-e981-40a7-9b9e-fec65bb00ac0",
   "metadata": {},
   "outputs": [
    {
     "name": "stdout",
     "output_type": "stream",
     "text": [
      "List with square of integers from 1 to 5:\n",
      "[1, 4, 9, 16, 25]\n"
     ]
    }
   ],
   "source": [
    "#7) Develop a program that prints the squares of numbers from 1 to 5 using a `for` loop?\n",
    "l = []\n",
    "for i in range(1, 6):\n",
    "    l.append(i * i)\n",
    "print(\"List with square of integers from 1 to 5:\")\n",
    "print(l)"
   ]
  },
  {
   "cell_type": "code",
   "execution_count": 10,
   "id": "6a144ada-150d-400c-aa86-c5acf27a2488",
   "metadata": {},
   "outputs": [
    {
     "name": "stdout",
     "output_type": "stream",
     "text": [
      "5\n"
     ]
    }
   ],
   "source": [
    "#8) Create a program to find the length of a string without using the `len()` function?\n",
    "string = 'kumar'\n",
    "count = 0\n",
    "for i in string:\n",
    " \n",
    "    count+=1\n",
    "print(count)"
   ]
  },
  {
   "cell_type": "code",
   "execution_count": 11,
   "id": "d0054ed8-e2bf-42ac-af96-439cef5f47ef",
   "metadata": {},
   "outputs": [
    {
     "name": "stdout",
     "output_type": "stream",
     "text": [
      "Average of the list = 35.75\n"
     ]
    }
   ],
   "source": [
    "#9)Write a program that calculates the average of a list of numbers using a `for` loop?\n",
    "from functools import reduce\n",
    "def Average(lst): \n",
    "    return reduce(lambda a, b: a + b, lst) / len(lst) \n",
    "lst = [15, 9, 55, 41, 35, 20, 62, 49] \n",
    "average = Average(lst)  \n",
    "print(\"Average of the list =\", round(average, 2))"
   ]
  },
  {
   "cell_type": "code",
   "execution_count": 12,
   "id": "cf15fdc9-3817-42d7-ac25-02baa9f36331",
   "metadata": {},
   "outputs": [],
   "source": [
    "#10)Develop a program that prints the first `n` Fibonacci numbers using a `for` loop?\n",
    "def gen_fib(n) : \n",
    "    if n <=1 :\n",
    "        return n \n",
    "    else:\n",
    "        return gen_fib(n-1) + gen_fib(n-2)"
   ]
  },
  {
   "cell_type": "code",
   "execution_count": 13,
   "id": "44dfddea-7d03-4221-824f-9ca9d4fd82d1",
   "metadata": {},
   "outputs": [
    {
     "data": {
      "text/plain": [
       "5"
      ]
     },
     "execution_count": 13,
     "metadata": {},
     "output_type": "execute_result"
    }
   ],
   "source": [
    "gen_fib(5)"
   ]
  },
  {
   "cell_type": "code",
   "execution_count": 14,
   "id": "b1af6119-2ca5-4506-94f5-d81b3879e7ba",
   "metadata": {},
   "outputs": [
    {
     "name": "stdout",
     "output_type": "stream",
     "text": [
      "[1, 2, 5, 9]\n"
     ]
    }
   ],
   "source": [
    "#11) Write a program to check if a given list contains any duplicates using a `for` loop?\n",
    "list= [1, 2, 1, 2, 3, 4, 5, 1, 1, 2, 5, 6, 7, 8, 9, 9]\n",
    " \n",
    "uniqueList = []\n",
    "duplicateList = []\n",
    " \n",
    "for i in list:\n",
    "    if i not in uniqueList:\n",
    "        uniqueList.append(i)\n",
    "    elif i not in duplicateList:\n",
    "        duplicateList.append(i)\n",
    "print(duplicateList)"
   ]
  },
  {
   "cell_type": "code",
   "execution_count": 15,
   "id": "49e71d67-ef05-4b4b-9472-13fe9704de28",
   "metadata": {},
   "outputs": [
    {
     "name": "stdout",
     "output_type": "stream",
     "text": [
      "The prime numbers in this range are:  [2, 3, 5, 7, 11, 13, 17, 19, 23]\n"
     ]
    }
   ],
   "source": [
    "#12)Create a program that prints the prime numbers in a given range using a `for` loop?\n",
    "def prime(x, y):\n",
    "    prime_list = []\n",
    "    for i in range(x, y):\n",
    "        if i == 0 or i == 1:\n",
    "            continue\n",
    "        else:\n",
    "            for j in range(2, int(i/2)+1):\n",
    "                if i % j == 0:\n",
    "                    break\n",
    "            else:\n",
    "                prime_list.append(i)\n",
    "    return prime_list\n",
    "starting_range = 2\n",
    "ending_range = 29\n",
    "lst = prime(starting_range, ending_range)\n",
    "if len(lst) == 0:\n",
    "    print(\"There are no prime numbers in this range\")\n",
    "else:\n",
    "    print(\"The prime numbers in this range are: \", lst)"
   ]
  },
  {
   "cell_type": "code",
   "execution_count": 16,
   "id": "72e22de9-e56b-4d14-a7ff-5856ffc7da00",
   "metadata": {},
   "outputs": [
    {
     "name": "stdout",
     "output_type": "stream",
     "text": [
      "Enter a sentence:  bangalore\n"
     ]
    },
    {
     "name": "stdout",
     "output_type": "stream",
     "text": [
      "Number of vowels: 4\n"
     ]
    }
   ],
   "source": [
    "#13)Develop a program that counts the number of vowels in a string using a `for` loop?\n",
    "sentence = input(\"Enter a sentence: \")\n",
    "vowel_count = 0\n",
    "for char in sentence:\n",
    "    char_lower = char.lower()\n",
    "    if char_lower in \"aeiou\":\n",
    "        vowel_count += 1\n",
    "print(\"Number of vowels:\", vowel_count)"
   ]
  },
  {
   "cell_type": "code",
   "execution_count": 17,
   "id": "fc0bf94a-b620-4185-9710-3a1ff63d8365",
   "metadata": {},
   "outputs": [
    {
     "name": "stdout",
     "output_type": "stream",
     "text": [
      "3\n",
      "8\n",
      "87\n"
     ]
    }
   ],
   "source": [
    "#14) Write a program to find the maximum element in a 2D list using a nested `for` loop?\n",
    "X = [[1,2,3],[7,8,4],[56,34,87]]\n",
    "    \n",
    "for i in range(len(X)):\n",
    "    print(max(X[i])) "
   ]
  },
  {
   "cell_type": "code",
   "execution_count": 18,
   "id": "174ebc7e-30c5-4c88-bdf3-ea22270a6bee",
   "metadata": {},
   "outputs": [
    {
     "name": "stdout",
     "output_type": "stream",
     "text": [
      "Original list:\n",
      "[10, 20, 10, 30, 10, 40, 10, 50]\n",
      "list after removing elements:\n",
      "[20, 30, 40, 50]\n"
     ]
    }
   ],
   "source": [
    "#15)Create a program that removes all occurrences of a specific element from a list using a `for` loop?\n",
    "list = [10, 20, 10, 30, 10, 40, 10, 50]\n",
    "n = 10\n",
    "print (\"Original list:\")\n",
    "print (list)\n",
    "for x in list:\n",
    "    if x == n:\n",
    "        list.remove(x)\n",
    "print (\"list after removing elements:\")\n",
    "print (list)"
   ]
  },
  {
   "cell_type": "code",
   "execution_count": 19,
   "id": "3d2e5b68-741c-4254-aad3-2af8f9bc4a63",
   "metadata": {},
   "outputs": [
    {
     "name": "stdout",
     "output_type": "stream",
     "text": [
      "       1   2   3   4   5\n",
      "   1   1   2   3   4   5\n",
      "   2   2   4   6   8  10\n",
      "   3   3   6   9  12  15\n",
      "   4   4   8  12  16  20\n",
      "   5   5  10  15  20  25\n",
      "   6   6  12  18  24  30\n",
      "   7   7  14  21  28  35\n",
      "   8   8  16  24  32  40\n",
      "   9   9  18  27  36  45\n",
      "   10  10  20  30  40  50\n"
     ]
    }
   ],
   "source": [
    "#16)Develop a program that generates a multiplication table for numbers from 1 to 5 using a nested `for` loop?\n",
    "for row in range(0, 11):\n",
    "    for col in range(0, 6):\n",
    "        num = row * col\n",
    "        if num < 10:\n",
    "            empty = \"  \"\n",
    "        else:\n",
    "            if num < 100:\n",
    "                empty = \" \"\n",
    "        if col == 0:\n",
    "            if row == 0:\n",
    "                print(\"    \", end='')\n",
    "            else:\n",
    "                print(\"  \", row, end='')\n",
    "        elif row == 0:\n",
    "            print(\"  \", col, end='')\n",
    "        else:\n",
    "            print(empty, num, end='')\n",
    "    print()"
   ]
  },
  {
   "cell_type": "code",
   "execution_count": 20,
   "id": "ce399416-fdde-4b50-8644-8f01e5f9f509",
   "metadata": {},
   "outputs": [
    {
     "name": "stdout",
     "output_type": "stream",
     "text": [
      "Enter temperature in Celsius:  40\n"
     ]
    },
    {
     "name": "stdout",
     "output_type": "stream",
     "text": [
      "40.0 Celsius is equal to 104.00 Fahrenheit\n"
     ]
    }
   ],
   "source": [
    "#17)Write a program that converts a list of Fahrenheit temperatures to Celsius using a `for` loop?\n",
    "celsius_temperature = float(input(\"Enter temperature in Celsius: \"))\n",
    "fahrenheit_temperature = (celsius_temperature * 9/5) + 32\n",
    "print(f\"{celsius_temperature} Celsius is equal to {fahrenheit_temperature:.2f} Fahrenheit\")\n"
   ]
  },
  {
   "cell_type": "code",
   "execution_count": 21,
   "id": "be571270-2119-4851-b1aa-fbbd9663a001",
   "metadata": {},
   "outputs": [
    {
     "name": "stdout",
     "output_type": "stream",
     "text": [
      "{5}\n",
      "No common elements\n"
     ]
    }
   ],
   "source": [
    "#18)Create a program to print the common elements from two lists using a `for` loop.\n",
    "def common_member(a, b):\n",
    "    a_set = set(a)\n",
    "    b_set = set(b)\n",
    " \n",
    "    if (a_set & b_set):\n",
    "        print(a_set & b_set)\n",
    "    else:\n",
    "        print(\"No common elements\") \n",
    "          \n",
    "  \n",
    "a = [1, 2, 3, 4, 5]\n",
    "b = [5, 6, 7, 8, 9]\n",
    "common_member(a, b)\n",
    "  \n",
    "a = [1, 2, 3, 4, 5]\n",
    "b = [6, 7, 8, 9]\n",
    "common_member(a, b)"
   ]
  },
  {
   "cell_type": "code",
   "execution_count": 22,
   "id": "a4000116-f368-419b-a378-c73b47a2bcf1",
   "metadata": {},
   "outputs": [
    {
     "name": "stdout",
     "output_type": "stream",
     "text": [
      "* \n",
      "* * \n",
      "* * * \n",
      "* * * * \n",
      "* * * * * \n",
      "* * * * * * \n"
     ]
    }
   ],
   "source": [
    "#19)Develop a program that prints the pattern of right-angled triangles using a `for` loop. Use ‘*’ to draw the pattern?\n",
    "for i in range(6):\n",
    "    for j in range(i+1):\n",
    "        print(\"*\",end=\" \")\n",
    "    print() "
   ]
  },
  {
   "cell_type": "code",
   "execution_count": 23,
   "id": "50a4e7de-b34e-497f-b1fc-50bfed1642d9",
   "metadata": {},
   "outputs": [
    {
     "name": "stdout",
     "output_type": "stream",
     "text": [
      "GCD of 12 and 84 is 12\n"
     ]
    }
   ],
   "source": [
    "#20)Write a program to find the greatest common divisor (GCD) of two numbers using a `for` loop?\n",
    "num1 = 12\n",
    "num2 = 84\n",
    "a = num1\n",
    "b = num2\n",
    "while num1 != num2:\n",
    "    if num1 > num2:\n",
    "        num1 -= num2\n",
    "    else:\n",
    "        num2 -= num1\n",
    "print(\"GCD of\", a, \"and\", b, \"is\", num1)"
   ]
  },
  {
   "cell_type": "code",
   "execution_count": 24,
   "id": "a37aaa0a-7410-4479-b3aa-d9ca64673b0a",
   "metadata": {},
   "outputs": [
    {
     "data": {
      "text/plain": [
       "21"
      ]
     },
     "execution_count": 24,
     "metadata": {},
     "output_type": "execute_result"
    }
   ],
   "source": [
    "#21)Create a program that calculates the sum of the digits of numbers in a list using a list comprehension?\n",
    "def sum_of_digit(n):\n",
    "    sum=0\n",
    "    while n!=0:\n",
    "        d=n%10\n",
    "        sum=sum+d\n",
    "        n=n//10\n",
    "    return sum\n",
    "sum_of_digit(123456)"
   ]
  },
  {
   "cell_type": "code",
   "execution_count": 25,
   "id": "9c352da1-e884-4239-8bd4-e74a8ec3544e",
   "metadata": {},
   "outputs": [
    {
     "name": "stdout",
     "output_type": "stream",
     "text": [
      " Enter any Number:  17\n"
     ]
    },
    {
     "name": "stdout",
     "output_type": "stream",
     "text": [
      " 17 is a Prime Factor of a Given Number 17\n"
     ]
    }
   ],
   "source": [
    "#22)Write a program to find the prime factors of a given number using a `for` loop and list comprehension?\n",
    "Number = int(input(\" Enter any Number: \"))\n",
    "for i in range(2, Number + 1):\n",
    "    if(Number % i == 0):\n",
    "        isprime = 1\n",
    "        for j in range(2, (i //2 + 1)):\n",
    "            if(i % j == 0):\n",
    "                isprime = 0\n",
    "                break\n",
    "            \n",
    "        if (isprime == 1):\n",
    "            print(\" %d is a Prime Factor of a Given Number %d\" %(i, Number))"
   ]
  },
  {
   "cell_type": "code",
   "execution_count": 26,
   "id": "e08d6a8f-1198-4585-bfb1-993869d0bec6",
   "metadata": {},
   "outputs": [
    {
     "name": "stdout",
     "output_type": "stream",
     "text": [
      "[22, 23, 24, 25, 54, 78, 99, 88, 64, 42, 53, 76]\n"
     ]
    }
   ],
   "source": [
    "#23)Develop a program that extracts unique elements from a list and stores them in a new list using a list comprehension?\n",
    "list= [22,23,24,25,22,54,78,99,88,64,42,53,42,88,76,78]\n",
    " \n",
    "uniquelist = []\n",
    "duplicatelist = []\n",
    " \n",
    "for i in list:\n",
    "    if i not in uniquelist:\n",
    "        uniquelist.append(i)\n",
    "    elif i not in duplicatelist:\n",
    "        duplicatelist.append(i)\n",
    "print(uniquelist)"
   ]
  },
  {
   "cell_type": "code",
   "execution_count": 27,
   "id": "f0e360f2-5d68-49d4-ba4b-bb7225e1b323",
   "metadata": {},
   "outputs": [
    {
     "name": "stdout",
     "output_type": "stream",
     "text": [
      "121\n",
      "141\n",
      "252\n",
      "Total palindrome nos. are 3\n"
     ]
    }
   ],
   "source": [
    "#24)Create a program that generates a list of all palindromic numbers up to a specified limit using a list comprehension?\n",
    "def palindromeNumbers(list_a):\n",
    "    c = 0\n",
    "    for i in list_a:\n",
    "        if str(i) == str(i)[::-1]:\n",
    "            print(i)\n",
    "            c += 1\n",
    "    print(\"Total palindrome nos. are\", c)\n",
    "list_a = [10, 121, 133, 155, 141, 252]\n",
    "palindromeNumbers(list_a)"
   ]
  },
  {
   "cell_type": "code",
   "execution_count": 28,
   "id": "9f4f9437-745f-423f-887a-8f2294796be3",
   "metadata": {},
   "outputs": [
    {
     "name": "stdout",
     "output_type": "stream",
     "text": [
      "[1, 2, 3, 4, 5, 6, 7]\n"
     ]
    }
   ],
   "source": [
    "#25)Write a program to flatten a nested list using list comprehension?\n",
    "my_list = [[1], [2, 3], [4, 5, 6, 7]]\n",
    "flat_list = [num for sublist in my_list for num in sublist]\n",
    "print(flat_list)"
   ]
  },
  {
   "cell_type": "code",
   "execution_count": 29,
   "id": "414b8e49-9a5c-4608-ad40-3d3a5d7e61a4",
   "metadata": {},
   "outputs": [
    {
     "name": "stdout",
     "output_type": "stream",
     "text": [
      "Even numbers in the list:  3\n",
      "Odd numbers in the list:  4\n"
     ]
    }
   ],
   "source": [
    "#26)Develop a program that computes the sum of even and odd numbers in a list separately using list comprehension?\n",
    "list1 = [10, 21, 4, 45, 66, 93, 11]\n",
    " \n",
    "only_odd = [num for num in list1 if num % 2 == 1]\n",
    "odd_count = len(only_odd)\n",
    " \n",
    "print(\"Even numbers in the list: \", len(list1) - odd_count)\n",
    "print(\"Odd numbers in the list: \", odd_count)"
   ]
  },
  {
   "cell_type": "code",
   "execution_count": 30,
   "id": "3efd8da8-3b0c-4be5-a365-75c20f177816",
   "metadata": {},
   "outputs": [
    {
     "name": "stdout",
     "output_type": "stream",
     "text": [
      "[1, 9, 25, 49, 81]\n"
     ]
    }
   ],
   "source": [
    "\n",
    "#27)Create a program that generates a list of squares of odd numbers between 1 and 10 using list comprehension?\n",
    "list=[1,2,3,4,5,6,7,8,9,10,]\n",
    "result = [i*i for i in list if i%2!=0]\n",
    "print(result)"
   ]
  },
  {
   "cell_type": "code",
   "execution_count": 31,
   "id": "018ab2a6-d796-4a78-a2a0-d82ffa2a5657",
   "metadata": {},
   "outputs": [
    {
     "name": "stdout",
     "output_type": "stream",
     "text": [
      "{1: 'python', 2: 'DSA', 3: 'data science'}\n"
     ]
    }
   ],
   "source": [
    "#28) Write a program that combines two lists into a dictionary using list comprehension?\n",
    "index = [1, 2, 3]\n",
    "subject= ['python', 'DSA', 'data science']\n",
    "dictionary = {k: v for k, v in zip(index,subject)}\n",
    "print(dictionary)"
   ]
  },
  {
   "cell_type": "code",
   "execution_count": 32,
   "id": "0a6b0424-aecc-437e-aa1d-3dbd098d7902",
   "metadata": {},
   "outputs": [
    {
     "name": "stdout",
     "output_type": "stream",
     "text": [
      "Enter text:  scinece\n"
     ]
    },
    {
     "name": "stdout",
     "output_type": "stream",
     "text": [
      "3\n",
      "['i', 'e', 'e']\n"
     ]
    }
   ],
   "source": [
    "#29)Develop a program that extracts the vowels from a string and stores them in a list using list comprehension?\n",
    "text = input('Enter text: ')\n",
    "count = 0\n",
    "vowel_list = [char for char in text if char.lower() in \"aeiou\"]\n",
    "print(len(vowel_list))   \n",
    "print(vowel_list)"
   ]
  },
  {
   "cell_type": "code",
   "execution_count": 33,
   "id": "122d8041-9757-4c81-9e03-e08599d23e54",
   "metadata": {},
   "outputs": [
    {
     "name": "stdout",
     "output_type": "stream",
     "text": [
      "['bangalore', 'dsa', 'data science']\n"
     ]
    }
   ],
   "source": [
    "#30) Create a program that removes all non-numeric characters from a list of strings using list comprehension?\n",
    "import re\n",
    "def remove(list):\n",
    "    pattern = '[0-9]'\n",
    "    list = [re.sub(pattern, '', i) for i in list]\n",
    "    return list\n",
    "list = ['4bangalore', '3dsa', '15data science']\n",
    "print(remove(list))"
   ]
  },
  {
   "cell_type": "code",
   "execution_count": 34,
   "id": "20de9759-1ca3-48db-954d-ebf75c73c86c",
   "metadata": {},
   "outputs": [
    {
     "name": "stdout",
     "output_type": "stream",
     "text": [
      "Following are the prime numbers smaller\n",
      "than or equal to 20\n",
      "2\n",
      "3\n",
      "5\n",
      "7\n",
      "11\n",
      "13\n",
      "17\n",
      "19\n"
     ]
    }
   ],
   "source": [
    "#31) Write a program to generate a list of prime numbers using the Sieve of Eratosthenes algorithm and list comprehension?\n",
    "def SieveOfEratosthenes(num):\n",
    "    prime = [True for i in range(num+1)]\n",
    "    p = 2\n",
    "    while (p * p <= num):\n",
    "        if (prime[p] == True):\n",
    "            for i in range(p * p, num+1, p):\n",
    "                prime[i] = False\n",
    "        p += 1\n",
    "    for p in range(2, num+1):\n",
    "        if prime[p]:\n",
    "            print(p)\n",
    "if __name__ == '__main__':\n",
    "    num = 20\n",
    "    print(\"Following are the prime numbers smaller\"),\n",
    "    print(\"than or equal to\", num)\n",
    "    SieveOfEratosthenes(num)"
   ]
  },
  {
   "cell_type": "code",
   "execution_count": 35,
   "id": "f03e58bc-7564-4d7b-8c00-f1def9074c32",
   "metadata": {},
   "outputs": [
    {
     "name": "stdout",
     "output_type": "stream",
     "text": [
      "Enter the value of n:  13\n"
     ]
    },
    {
     "name": "stdout",
     "output_type": "stream",
     "text": [
      "[(3, 4, 5), (5, 12, 13), (6, 8, 10)]\n"
     ]
    }
   ],
   "source": [
    "#32) Create a program that generates a list of all Pythagorean triplets up to a specified limit using list comprehension?\n",
    "n = int(input('Enter the value of n: '))\n",
    "print([(a, b, c) for a in range(1, n + 1) for b in range(a, n + 1)\n",
    "       for c in range(b, n + 1) if a**2 + b**2 == c**2])"
   ]
  },
  {
   "cell_type": "code",
   "execution_count": 36,
   "id": "c99e685d-b5a9-4b2a-9e2a-91458d9ec219",
   "metadata": {},
   "outputs": [
    {
     "name": "stdout",
     "output_type": "stream",
     "text": [
      "[(1, 'a'), (1, 'b'), (1, 'c'), (2, 'a'), (2, 'b'), (2, 'c'), (3, 'a'), (3, 'b'), (3, 'c')]\n"
     ]
    }
   ],
   "source": [
    "#33)Develop a program that generates a list of all possible combinations of two lists using list comprehension?\n",
    "list_1 = [1, 2, 3]\n",
    "list_2 = ['a', 'b', 'c']\n",
    "list_3 = [ (x, y) for x in list_1 for y in list_2 ]\n",
    "print(list_3)"
   ]
  },
  {
   "cell_type": "code",
   "execution_count": 37,
   "id": "bf9c58dd-cbf2-4269-a006-f7dff39e103f",
   "metadata": {},
   "outputs": [
    {
     "name": "stdout",
     "output_type": "stream",
     "text": [
      "Average of the list = 35.75\n"
     ]
    }
   ],
   "source": [
    "#34)Write a program that calculates the mean, median, and mode of a list of numbers using list comprehension?\n",
    "from functools import reduce\n",
    " \n",
    "def Average(lst): \n",
    "    return reduce(lambda a, b: a + b, lst) / len(lst) \n",
    "lst = [15, 9, 55, 41, 35, 20, 62, 49] \n",
    "average = Average(lst) \n",
    "print(\"Average of the list =\", round(average, 2))"
   ]
  },
  {
   "cell_type": "code",
   "execution_count": 38,
   "id": "037021dd-70d6-4bc4-871e-42c6ed3407b3",
   "metadata": {},
   "outputs": [
    {
     "name": "stdout",
     "output_type": "stream",
     "text": [
      "Median is: 3\n"
     ]
    }
   ],
   "source": [
    "#medain\n",
    "n_num = [1, 2, 3, 4, 5] \n",
    "n = len(n_num) \n",
    "n_num.sort() \n",
    " \n",
    "if n % 2 == 0: \n",
    "    median1 = n_num[n//2] \n",
    "    median2 = n_num[n//2 - 1] \n",
    "    median = (median1 + median2)/2\n",
    "else: \n",
    "    median = n_num[n//2] \n",
    "print(\"Median is: \" + str(median)) "
   ]
  },
  {
   "cell_type": "code",
   "execution_count": 39,
   "id": "81836dc9-b3de-43f0-9459-436aa3988614",
   "metadata": {},
   "outputs": [
    {
     "data": {
      "text/plain": [
       "[2]"
      ]
     },
     "execution_count": 39,
     "metadata": {},
     "output_type": "execute_result"
    }
   ],
   "source": [
    "\n",
    "#mode\n",
    "def mode(ls):\n",
    "    counts = {}\n",
    "    for item in ls:\n",
    "        if item in counts:\n",
    "            counts[item] += 1\n",
    "        else:\n",
    "            counts[item] = 1\n",
    "    return [key for key in counts.keys() if counts[key] == max(counts.values())]\n",
    "mode([2,2,4,5,6,2,3,5])"
   ]
  },
  {
   "cell_type": "code",
   "execution_count": 40,
   "id": "606fb195-7bc4-42ff-b392-5cd05beca5fb",
   "metadata": {},
   "outputs": [
    {
     "name": "stdout",
     "output_type": "stream",
     "text": [
      "[1]\n",
      "[1, 1]\n",
      "[1, 2, 1]\n",
      "[1, 3, 3, 1]\n",
      "[1, 4, 6, 4, 1]\n",
      "[1, 5, 10, 10, 5, 1]\n",
      "[1, 6, 15, 20, 15, 6, 1]\n",
      "[1, 7, 21, 35, 35, 21, 7, 1]\n",
      "[1, 8, 28, 56, 70, 56, 28, 8, 1]\n",
      "[1, 9, 36, 84, 126, 126, 84, 36, 9, 1]\n"
     ]
    }
   ],
   "source": [
    "#35)Create a program that generates Pascal's triangle up to a specified number of rows using list comprehension?\n",
    "list=[1] \n",
    "for i in range(10): \n",
    "    print(list) \n",
    "    newlist=[] \n",
    "    newlist.append(list[0]) \n",
    "    for i in range(len(list)-1): \n",
    "        newlist.append(list[i]+list[i+1]) \n",
    "    newlist.append(list[-1]) \n",
    "    list=newlist "
   ]
  },
  {
   "cell_type": "code",
   "execution_count": 41,
   "id": "0c278cb0-abad-40a9-84db-cfd57ea09240",
   "metadata": {},
   "outputs": [],
   "source": [
    "#36)Develop a program that calculates the sum of the digits of a factorial of numbers from 1 to 5 using list comprehension?\n",
    "def fact(n):\n",
    "    if n == 0 :\n",
    "        return 1\n",
    "    else :\n",
    "        return n*fact(n-1)"
   ]
  },
  {
   "cell_type": "code",
   "execution_count": 42,
   "id": "d34fc23a-d634-456e-ae4d-4b2892860ae2",
   "metadata": {},
   "outputs": [],
   "source": [
    "b=fact(5)"
   ]
  },
  {
   "cell_type": "code",
   "execution_count": 43,
   "id": "09470b1a-2917-49a8-8bb0-616dbc94f641",
   "metadata": {},
   "outputs": [
    {
     "data": {
      "text/plain": [
       "120"
      ]
     },
     "execution_count": 43,
     "metadata": {},
     "output_type": "execute_result"
    }
   ],
   "source": [
    "b"
   ]
  },
  {
   "cell_type": "code",
   "execution_count": 44,
   "id": "7f01d8bd-e152-4943-ba5d-7e507f3e971e",
   "metadata": {},
   "outputs": [
    {
     "name": "stdout",
     "output_type": "stream",
     "text": [
      "confident\n"
     ]
    }
   ],
   "source": [
    "#37) Write a program that finds the longest word in a sentence using list comprehension?\n",
    "def longestword(s):\n",
    "    s=s.split()\n",
    "    print(max(s,key=len))\n",
    "if __name__ == \"__main__\":\n",
    "    s = \"be confident and be yourself\"\n",
    "    longestword(s)"
   ]
  },
  {
   "cell_type": "code",
   "execution_count": 45,
   "id": "68ea2205-a572-4450-b7e1-0a40af638fdb",
   "metadata": {},
   "outputs": [
    {
     "name": "stdout",
     "output_type": "stream",
     "text": [
      "The original list is : ['bangalore', 'best', 'for', 'ranjith']\n",
      "more than three vowels : bangalore\n"
     ]
    }
   ],
   "source": [
    "#38) Create a program that filters a list of strings to include only those with more than three vowels using list comprehension?\n",
    "test_list = [\"bangalore\", \"best\", \"for\", \"ranjith\"]\n",
    "print(\"The original list is : \" + str(test_list)) \n",
    "res = \"\"\n",
    "max_len = 0\n",
    "for ele in test_list:\n",
    "    vow_len = len([el for el in ele if el in ['a', 'e', 'o', 'u', 'i']])\n",
    "     \n",
    "    if vow_len > 3:\n",
    "        max_len = vow_len\n",
    "        res = ele\n",
    "print(\"more than three vowels : \" + str(res))"
   ]
  },
  {
   "cell_type": "code",
   "execution_count": 46,
   "id": "4c701bc9-cab7-4f9d-aa8b-4bc9479d6f83",
   "metadata": {},
   "outputs": [],
   "source": [
    "#39) Develop a program that calculates the sum of the digits of numbers from 1 to 1000 using list comprehension?\n",
    "def sum_till_n(n) : \n",
    "    if n ==1 :\n",
    "        return 1 \n",
    "    else :\n",
    "        return n+ sum_till_n(n-1)"
   ]
  },
  {
   "cell_type": "code",
   "execution_count": 47,
   "id": "40a06181-7432-426f-a425-7ecb64b6ec58",
   "metadata": {},
   "outputs": [
    {
     "data": {
      "text/plain": [
       "500500"
      ]
     },
     "execution_count": 47,
     "metadata": {},
     "output_type": "execute_result"
    }
   ],
   "source": [
    "sum_till_n(1000)"
   ]
  },
  {
   "cell_type": "code",
   "execution_count": 48,
   "id": "1a7bdb82-a00f-412a-9c75-863c9735f1c6",
   "metadata": {},
   "outputs": [
    {
     "name": "stdout",
     "output_type": "stream",
     "text": [
      "121\n",
      "141\n",
      "252\n",
      "\n",
      "Total palindrome nos. are 3\n",
      "\n",
      "111\n",
      "565\n",
      "787\n",
      "363\n",
      "\n",
      "Total palindrome nos. are 4\n",
      "\n"
     ]
    }
   ],
   "source": [
    "#40) Write a program that generates a list of prime palindromic numbers using list comprehension?\n",
    "def palindromeNumbers(list_a):\n",
    "    c = 0\n",
    "    for i in list_a:\n",
    "        t = i\n",
    "        rev = 0\n",
    "        while t > 0:\n",
    "            rev = rev * 10 + t % 10\n",
    "            t = t // 10\n",
    "        if rev == i:\n",
    "            print(i)\n",
    "            c = c + 1\n",
    "    print()\n",
    "    print(\"Total palindrome nos. are\", c)\n",
    "    print()\n",
    "def main():\n",
    "    list_a = [10, 121, 133, 155, 141, 252]\n",
    "    palindromeNumbers(list_a)\n",
    " \n",
    "    list_b = [111, 220, 784, 565, 498, 787, 363]\n",
    "    palindromeNumbers(list_b)\n",
    "if __name__ == \"__main__\":\n",
    "    main()     "
   ]
  },
  {
   "cell_type": "code",
   "execution_count": null,
   "id": "d054b894-9693-416e-be31-c4b9f4563a36",
   "metadata": {},
   "outputs": [],
   "source": []
  }
 ],
 "metadata": {
  "kernelspec": {
   "display_name": "Python 3 (ipykernel)",
   "language": "python",
   "name": "python3"
  },
  "language_info": {
   "codemirror_mode": {
    "name": "ipython",
    "version": 3
   },
   "file_extension": ".py",
   "mimetype": "text/x-python",
   "name": "python",
   "nbconvert_exporter": "python",
   "pygments_lexer": "ipython3",
   "version": "3.10.8"
  }
 },
 "nbformat": 4,
 "nbformat_minor": 5
}
